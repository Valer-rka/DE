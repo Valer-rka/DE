{
 "cells": [
  {
   "cell_type": "code",
   "execution_count": 19,
   "id": "48e7cefe",
   "metadata": {},
   "outputs": [],
   "source": [
    "import pandas as pd\n",
    "import numpy as np\n",
    "from pprint import pprint\n",
    "import codecs\n",
    "import json\n",
    "import glob\n",
    "pd.set_option('display.max_columns', None)\n",
    "from pandas import json_normalize"
   ]
  },
  {
   "cell_type": "code",
   "execution_count": 39,
   "id": "5521c655",
   "metadata": {},
   "outputs": [],
   "source": [
    "#Путь к файлам .geojson\n",
    "path = 'Data'\n",
    "file = glob.glob(path + \"/*.json\")\n",
    "\n",
    "\n",
    "#Цикл для получения файла и его загрузки, используя json.load \n",
    "df_data=[]\n",
    "for filename in file:\n",
    "    name = filename.split(\"\\\\\")[-1][:-5]\n",
    "    \n",
    "    with codecs.open(filename, 'r', 'utf-8-sig') as json_file:  \n",
    "        data = json.load(json_file)\n",
    "           \n",
    "    for article in data['refs']:\n",
    "        if article!=None:\n",
    "            df_data.append([name, article[0], article[1]['day'], article[1]['month'], article[1]['time'], article[2]['rate']])\n",
    "            \n",
    "df_full=pd.DataFrame(data=df_data,columns=['Company', 'Post', 'day', 'month', 'time', 'rate'])"
   ]
  },
  {
   "cell_type": "code",
   "execution_count": 40,
   "id": "fe5b874c",
   "metadata": {},
   "outputs": [
    {
     "data": {
      "text/html": [
       "<div>\n",
       "<style scoped>\n",
       "    .dataframe tbody tr th:only-of-type {\n",
       "        vertical-align: middle;\n",
       "    }\n",
       "\n",
       "    .dataframe tbody tr th {\n",
       "        vertical-align: top;\n",
       "    }\n",
       "\n",
       "    .dataframe thead th {\n",
       "        text-align: right;\n",
       "    }\n",
       "</style>\n",
       "<table border=\"1\" class=\"dataframe\">\n",
       "  <thead>\n",
       "    <tr style=\"text-align: right;\">\n",
       "      <th></th>\n",
       "      <th>Company</th>\n",
       "      <th>Post</th>\n",
       "      <th>day</th>\n",
       "      <th>month</th>\n",
       "      <th>time</th>\n",
       "      <th>rate</th>\n",
       "    </tr>\n",
       "  </thead>\n",
       "  <tbody>\n",
       "    <tr>\n",
       "      <th>0</th>\n",
       "      <td>Cybersport.Metaratings</td>\n",
       "      <td>7 декабря состоялась церемония награждения лау...</td>\n",
       "      <td>8</td>\n",
       "      <td>декабря</td>\n",
       "      <td>09:30</td>\n",
       "      <td>6</td>\n",
       "    </tr>\n",
       "    <tr>\n",
       "      <th>1</th>\n",
       "      <td>ESforce Holding</td>\n",
       "      <td>7 декабря состоялась церемония награждения лау...</td>\n",
       "      <td>8</td>\n",
       "      <td>декабря</td>\n",
       "      <td>09:30</td>\n",
       "      <td>6</td>\n",
       "    </tr>\n",
       "    <tr>\n",
       "      <th>2</th>\n",
       "      <td>ESforce Holding</td>\n",
       "      <td>Из совместного исследования издателя компьютер...</td>\n",
       "      <td>29</td>\n",
       "      <td>июля</td>\n",
       "      <td>13:50</td>\n",
       "      <td>12</td>\n",
       "    </tr>\n",
       "    <tr>\n",
       "      <th>3</th>\n",
       "      <td>ESforce Holding</td>\n",
       "      <td>По статистике The Esports Observer за I полови...</td>\n",
       "      <td>9</td>\n",
       "      <td>июля</td>\n",
       "      <td>09:33</td>\n",
       "      <td>18</td>\n",
       "    </tr>\n",
       "    <tr>\n",
       "      <th>4</th>\n",
       "      <td>ESforce Holding</td>\n",
       "      <td>Компании SuperData Research и PayPal провели с...</td>\n",
       "      <td>11</td>\n",
       "      <td>апреля</td>\n",
       "      <td>12:43</td>\n",
       "      <td>11</td>\n",
       "    </tr>\n",
       "  </tbody>\n",
       "</table>\n",
       "</div>"
      ],
      "text/plain": [
       "                  Company                                               Post  \\\n",
       "0  Cybersport.Metaratings  7 декабря состоялась церемония награждения лау...   \n",
       "1         ESforce Holding  7 декабря состоялась церемония награждения лау...   \n",
       "2         ESforce Holding  Из совместного исследования издателя компьютер...   \n",
       "3         ESforce Holding  По статистике The Esports Observer за I полови...   \n",
       "4         ESforce Holding  Компании SuperData Research и PayPal провели с...   \n",
       "\n",
       "  day    month   time  rate  \n",
       "0   8  декабря  09:30     6  \n",
       "1   8  декабря  09:30     6  \n",
       "2  29     июля  13:50    12  \n",
       "3   9     июля  09:33    18  \n",
       "4  11   апреля  12:43    11  "
      ]
     },
     "execution_count": 40,
     "metadata": {},
     "output_type": "execute_result"
    }
   ],
   "source": [
    "df_full.head()"
   ]
  },
  {
   "cell_type": "code",
   "execution_count": 41,
   "id": "91122b88",
   "metadata": {},
   "outputs": [
    {
     "data": {
      "text/html": [
       "<div>\n",
       "<style scoped>\n",
       "    .dataframe tbody tr th:only-of-type {\n",
       "        vertical-align: middle;\n",
       "    }\n",
       "\n",
       "    .dataframe tbody tr th {\n",
       "        vertical-align: top;\n",
       "    }\n",
       "\n",
       "    .dataframe thead th {\n",
       "        text-align: right;\n",
       "    }\n",
       "</style>\n",
       "<table border=\"1\" class=\"dataframe\">\n",
       "  <thead>\n",
       "    <tr style=\"text-align: right;\">\n",
       "      <th></th>\n",
       "      <th>rate</th>\n",
       "      <th>subs</th>\n",
       "      <th>industries</th>\n",
       "      <th>about</th>\n",
       "      <th>Company</th>\n",
       "    </tr>\n",
       "  </thead>\n",
       "  <tbody>\n",
       "    <tr>\n",
       "      <th>0</th>\n",
       "      <td>Не указано</td>\n",
       "      <td>Не указано</td>\n",
       "      <td>Не указано</td>\n",
       "      <td>Не указано</td>\n",
       "      <td>Cybersport.Metaratings</td>\n",
       "    </tr>\n",
       "    <tr>\n",
       "      <th>1</th>\n",
       "      <td>Не указано</td>\n",
       "      <td>Не указано</td>\n",
       "      <td>Не указано</td>\n",
       "      <td>Не указано</td>\n",
       "      <td>ESforce Holding</td>\n",
       "    </tr>\n",
       "    <tr>\n",
       "      <th>2</th>\n",
       "      <td>Не указано</td>\n",
       "      <td>Не указано</td>\n",
       "      <td>Не указано</td>\n",
       "      <td>Не указано</td>\n",
       "      <td>Gett</td>\n",
       "    </tr>\n",
       "    <tr>\n",
       "      <th>3</th>\n",
       "      <td>Не указано</td>\n",
       "      <td>Не указано</td>\n",
       "      <td>Не указано</td>\n",
       "      <td>Не указано</td>\n",
       "      <td>Goose Gaming</td>\n",
       "    </tr>\n",
       "    <tr>\n",
       "      <th>4</th>\n",
       "      <td>Не указано</td>\n",
       "      <td>Не указано</td>\n",
       "      <td>Не указано</td>\n",
       "      <td>Не указано</td>\n",
       "      <td>MMA.Metaratings</td>\n",
       "    </tr>\n",
       "  </tbody>\n",
       "</table>\n",
       "</div>"
      ],
      "text/plain": [
       "         rate        subs  industries       about                 Company\n",
       "0  Не указано  Не указано  Не указано  Не указано  Cybersport.Metaratings\n",
       "1  Не указано  Не указано  Не указано  Не указано         ESforce Holding\n",
       "2  Не указано  Не указано  Не указано  Не указано                    Gett\n",
       "3  Не указано  Не указано  Не указано  Не указано            Goose Gaming\n",
       "4  Не указано  Не указано  Не указано  Не указано         MMA.Metaratings"
      ]
     },
     "execution_count": 41,
     "metadata": {},
     "output_type": "execute_result"
    }
   ],
   "source": [
    "#Путь к файлам .geojson\n",
    "path = 'Data'\n",
    "file = glob.glob(path + \"/*.json\")\n",
    "\n",
    "\n",
    "df = pd.DataFrame(columns=['rate','subs','industries','about','Company']) \n",
    "\n",
    "#Цикл для получения файла и его загрузки, используя json.load \n",
    "for filename in file:\n",
    "    with codecs.open(filename, 'r', 'utf-8-sig') as json_file:  \n",
    "        data = json.load(json_file)\n",
    "        name = filename.split(\"\\\\\")[-1][:-5]   \n",
    "        try:\n",
    "            company_info=pd.concat([json_normalize(data['info']),pd.DataFrame([name],columns=['Company'])],axis=1)\n",
    "        except:\n",
    "            d={'rate':['Не указано'],'subs':['Не указано'],'industries':['Не указано'],'about':['Не указано']}\n",
    "            company_info=pd.concat([pd.DataFrame(d),pd.DataFrame([name],columns=['Company'])],axis=1)\n",
    "    df = pd.concat([df,company_info], axis=0, ignore_index=True)\n",
    "df.head()    \n",
    "   "
   ]
  },
  {
   "cell_type": "code",
   "execution_count": 42,
   "id": "1b681c70",
   "metadata": {},
   "outputs": [],
   "source": [
    "tk = df_full.merge(df, on='Company',how='left')"
   ]
  },
  {
   "cell_type": "code",
   "execution_count": 43,
   "id": "c57b7f8c",
   "metadata": {},
   "outputs": [
    {
     "data": {
      "text/plain": [
       "(1112, 10)"
      ]
     },
     "execution_count": 43,
     "metadata": {},
     "output_type": "execute_result"
    }
   ],
   "source": [
    "tk.shape"
   ]
  },
  {
   "cell_type": "code",
   "execution_count": 44,
   "id": "c062a629",
   "metadata": {},
   "outputs": [
    {
     "data": {
      "text/html": [
       "<div>\n",
       "<style scoped>\n",
       "    .dataframe tbody tr th:only-of-type {\n",
       "        vertical-align: middle;\n",
       "    }\n",
       "\n",
       "    .dataframe tbody tr th {\n",
       "        vertical-align: top;\n",
       "    }\n",
       "\n",
       "    .dataframe thead th {\n",
       "        text-align: right;\n",
       "    }\n",
       "</style>\n",
       "<table border=\"1\" class=\"dataframe\">\n",
       "  <thead>\n",
       "    <tr style=\"text-align: right;\">\n",
       "      <th></th>\n",
       "      <th>Company</th>\n",
       "      <th>Post</th>\n",
       "      <th>day</th>\n",
       "      <th>month</th>\n",
       "      <th>time</th>\n",
       "      <th>rate_x</th>\n",
       "      <th>rate_y</th>\n",
       "      <th>subs</th>\n",
       "      <th>industries</th>\n",
       "      <th>about</th>\n",
       "    </tr>\n",
       "  </thead>\n",
       "  <tbody>\n",
       "    <tr>\n",
       "      <th>0</th>\n",
       "      <td>Cybersport.Metaratings</td>\n",
       "      <td>7 декабря состоялась церемония награждения лау...</td>\n",
       "      <td>8</td>\n",
       "      <td>декабря</td>\n",
       "      <td>09:30</td>\n",
       "      <td>6</td>\n",
       "      <td>Не указано</td>\n",
       "      <td>Не указано</td>\n",
       "      <td>Не указано</td>\n",
       "      <td>Не указано</td>\n",
       "    </tr>\n",
       "    <tr>\n",
       "      <th>1</th>\n",
       "      <td>ESforce Holding</td>\n",
       "      <td>7 декабря состоялась церемония награждения лау...</td>\n",
       "      <td>8</td>\n",
       "      <td>декабря</td>\n",
       "      <td>09:30</td>\n",
       "      <td>6</td>\n",
       "      <td>Не указано</td>\n",
       "      <td>Не указано</td>\n",
       "      <td>Не указано</td>\n",
       "      <td>Не указано</td>\n",
       "    </tr>\n",
       "    <tr>\n",
       "      <th>2</th>\n",
       "      <td>ESforce Holding</td>\n",
       "      <td>Из совместного исследования издателя компьютер...</td>\n",
       "      <td>29</td>\n",
       "      <td>июля</td>\n",
       "      <td>13:50</td>\n",
       "      <td>12</td>\n",
       "      <td>Не указано</td>\n",
       "      <td>Не указано</td>\n",
       "      <td>Не указано</td>\n",
       "      <td>Не указано</td>\n",
       "    </tr>\n",
       "    <tr>\n",
       "      <th>3</th>\n",
       "      <td>ESforce Holding</td>\n",
       "      <td>По статистике The Esports Observer за I полови...</td>\n",
       "      <td>9</td>\n",
       "      <td>июля</td>\n",
       "      <td>09:33</td>\n",
       "      <td>18</td>\n",
       "      <td>Не указано</td>\n",
       "      <td>Не указано</td>\n",
       "      <td>Не указано</td>\n",
       "      <td>Не указано</td>\n",
       "    </tr>\n",
       "    <tr>\n",
       "      <th>4</th>\n",
       "      <td>ESforce Holding</td>\n",
       "      <td>Компании SuperData Research и PayPal провели с...</td>\n",
       "      <td>11</td>\n",
       "      <td>апреля</td>\n",
       "      <td>12:43</td>\n",
       "      <td>11</td>\n",
       "      <td>Не указано</td>\n",
       "      <td>Не указано</td>\n",
       "      <td>Не указано</td>\n",
       "      <td>Не указано</td>\n",
       "    </tr>\n",
       "  </tbody>\n",
       "</table>\n",
       "</div>"
      ],
      "text/plain": [
       "                  Company                                               Post  \\\n",
       "0  Cybersport.Metaratings  7 декабря состоялась церемония награждения лау...   \n",
       "1         ESforce Holding  7 декабря состоялась церемония награждения лау...   \n",
       "2         ESforce Holding  Из совместного исследования издателя компьютер...   \n",
       "3         ESforce Holding  По статистике The Esports Observer за I полови...   \n",
       "4         ESforce Holding  Компании SuperData Research и PayPal провели с...   \n",
       "\n",
       "  day    month   time  rate_x      rate_y        subs  industries       about  \n",
       "0   8  декабря  09:30       6  Не указано  Не указано  Не указано  Не указано  \n",
       "1   8  декабря  09:30       6  Не указано  Не указано  Не указано  Не указано  \n",
       "2  29     июля  13:50      12  Не указано  Не указано  Не указано  Не указано  \n",
       "3   9     июля  09:33      18  Не указано  Не указано  Не указано  Не указано  \n",
       "4  11   апреля  12:43      11  Не указано  Не указано  Не указано  Не указано  "
      ]
     },
     "execution_count": 44,
     "metadata": {},
     "output_type": "execute_result"
    }
   ],
   "source": [
    "tk.head()"
   ]
  },
  {
   "cell_type": "markdown",
   "id": "c82bfef4",
   "metadata": {},
   "source": [
    "## обработка текста"
   ]
  },
  {
   "cell_type": "code",
   "execution_count": 36,
   "id": "0740f47b",
   "metadata": {},
   "outputs": [],
   "source": [
    "import pymorphy2\n",
    "import re\n",
    "from nltk.corpus import stopwords\n",
    "from nltk.tokenize import word_tokenize\n",
    "import nltk"
   ]
  },
  {
   "cell_type": "code",
   "execution_count": 27,
   "id": "2781c08f",
   "metadata": {},
   "outputs": [
    {
     "name": "stderr",
     "output_type": "stream",
     "text": [
      "[nltk_data] Downloading package stopwords to C:\\Users\\Конан\n",
      "[nltk_data]     Варвар\\AppData\\Roaming\\nltk_data...\n",
      "[nltk_data]   Package stopwords is already up-to-date!\n"
     ]
    },
    {
     "data": {
      "text/plain": [
       "True"
      ]
     },
     "execution_count": 27,
     "metadata": {},
     "output_type": "execute_result"
    }
   ],
   "source": [
    "nltk.download('stopwords')"
   ]
  },
  {
   "cell_type": "code",
   "execution_count": 45,
   "id": "a3d27118",
   "metadata": {},
   "outputs": [],
   "source": [
    "sw = stopwords.words('russian')\n",
    "morph = pymorphy2.MorphAnalyzer()\n",
    "\n",
    "def clear_text(text):\n",
    "    text=text.lower()\n",
    "    text = re.sub(r'[^а-яё ]','', str(text))\n",
    "    tokens=word_tokenize(text, language=\"russian\")\n",
    "    tokens = [morph.parse(i)[0].normal_form for i in tokens]\n",
    "    tokens = [ i for i in tokens if i not in sw and len(i) > 3]\n",
    "    return tokens"
   ]
  },
  {
   "cell_type": "code",
   "execution_count": 46,
   "id": "b61828e1",
   "metadata": {},
   "outputs": [],
   "source": [
    "tk['lemmatize_tokens'] = tk['Post'].apply(clear_text)"
   ]
  },
  {
   "cell_type": "code",
   "execution_count": 47,
   "id": "9789ba1e",
   "metadata": {},
   "outputs": [
    {
     "data": {
      "text/html": [
       "<div>\n",
       "<style scoped>\n",
       "    .dataframe tbody tr th:only-of-type {\n",
       "        vertical-align: middle;\n",
       "    }\n",
       "\n",
       "    .dataframe tbody tr th {\n",
       "        vertical-align: top;\n",
       "    }\n",
       "\n",
       "    .dataframe thead th {\n",
       "        text-align: right;\n",
       "    }\n",
       "</style>\n",
       "<table border=\"1\" class=\"dataframe\">\n",
       "  <thead>\n",
       "    <tr style=\"text-align: right;\">\n",
       "      <th></th>\n",
       "      <th>Company</th>\n",
       "      <th>Post</th>\n",
       "      <th>day</th>\n",
       "      <th>month</th>\n",
       "      <th>time</th>\n",
       "      <th>rate_x</th>\n",
       "      <th>rate_y</th>\n",
       "      <th>subs</th>\n",
       "      <th>industries</th>\n",
       "      <th>about</th>\n",
       "      <th>lemmatize_tokens</th>\n",
       "    </tr>\n",
       "  </thead>\n",
       "  <tbody>\n",
       "    <tr>\n",
       "      <th>0</th>\n",
       "      <td>Cybersport.Metaratings</td>\n",
       "      <td>7 декабря состоялась церемония награждения лау...</td>\n",
       "      <td>8</td>\n",
       "      <td>декабря</td>\n",
       "      <td>09:30</td>\n",
       "      <td>6</td>\n",
       "      <td>Не указано</td>\n",
       "      <td>Не указано</td>\n",
       "      <td>Не указано</td>\n",
       "      <td>Не указано</td>\n",
       "      <td>[декабрь, состояться, церемония, награждение, ...</td>\n",
       "    </tr>\n",
       "    <tr>\n",
       "      <th>1</th>\n",
       "      <td>ESforce Holding</td>\n",
       "      <td>7 декабря состоялась церемония награждения лау...</td>\n",
       "      <td>8</td>\n",
       "      <td>декабря</td>\n",
       "      <td>09:30</td>\n",
       "      <td>6</td>\n",
       "      <td>Не указано</td>\n",
       "      <td>Не указано</td>\n",
       "      <td>Не указано</td>\n",
       "      <td>Не указано</td>\n",
       "      <td>[декабрь, состояться, церемония, награждение, ...</td>\n",
       "    </tr>\n",
       "    <tr>\n",
       "      <th>2</th>\n",
       "      <td>ESforce Holding</td>\n",
       "      <td>Из совместного исследования издателя компьютер...</td>\n",
       "      <td>29</td>\n",
       "      <td>июля</td>\n",
       "      <td>13:50</td>\n",
       "      <td>12</td>\n",
       "      <td>Не указано</td>\n",
       "      <td>Не указано</td>\n",
       "      <td>Не указано</td>\n",
       "      <td>Не указано</td>\n",
       "      <td>[совместный, исследование, издатель, компьютер...</td>\n",
       "    </tr>\n",
       "    <tr>\n",
       "      <th>3</th>\n",
       "      <td>ESforce Holding</td>\n",
       "      <td>По статистике The Esports Observer за I полови...</td>\n",
       "      <td>9</td>\n",
       "      <td>июля</td>\n",
       "      <td>09:33</td>\n",
       "      <td>18</td>\n",
       "      <td>Не указано</td>\n",
       "      <td>Не указано</td>\n",
       "      <td>Не указано</td>\n",
       "      <td>Не указано</td>\n",
       "      <td>[статистика, половина, впервые, самый, просмат...</td>\n",
       "    </tr>\n",
       "    <tr>\n",
       "      <th>4</th>\n",
       "      <td>ESforce Holding</td>\n",
       "      <td>Компании SuperData Research и PayPal провели с...</td>\n",
       "      <td>11</td>\n",
       "      <td>апреля</td>\n",
       "      <td>12:43</td>\n",
       "      <td>11</td>\n",
       "      <td>Не указано</td>\n",
       "      <td>Не указано</td>\n",
       "      <td>Не указано</td>\n",
       "      <td>Не указано</td>\n",
       "      <td>[компания, провести, совместный, исследование,...</td>\n",
       "    </tr>\n",
       "  </tbody>\n",
       "</table>\n",
       "</div>"
      ],
      "text/plain": [
       "                  Company                                               Post  \\\n",
       "0  Cybersport.Metaratings  7 декабря состоялась церемония награждения лау...   \n",
       "1         ESforce Holding  7 декабря состоялась церемония награждения лау...   \n",
       "2         ESforce Holding  Из совместного исследования издателя компьютер...   \n",
       "3         ESforce Holding  По статистике The Esports Observer за I полови...   \n",
       "4         ESforce Holding  Компании SuperData Research и PayPal провели с...   \n",
       "\n",
       "  day    month   time  rate_x      rate_y        subs  industries       about  \\\n",
       "0   8  декабря  09:30       6  Не указано  Не указано  Не указано  Не указано   \n",
       "1   8  декабря  09:30       6  Не указано  Не указано  Не указано  Не указано   \n",
       "2  29     июля  13:50      12  Не указано  Не указано  Не указано  Не указано   \n",
       "3   9     июля  09:33      18  Не указано  Не указано  Не указано  Не указано   \n",
       "4  11   апреля  12:43      11  Не указано  Не указано  Не указано  Не указано   \n",
       "\n",
       "                                    lemmatize_tokens  \n",
       "0  [декабрь, состояться, церемония, награждение, ...  \n",
       "1  [декабрь, состояться, церемония, награждение, ...  \n",
       "2  [совместный, исследование, издатель, компьютер...  \n",
       "3  [статистика, половина, впервые, самый, просмат...  \n",
       "4  [компания, провести, совместный, исследование,...  "
      ]
     },
     "execution_count": 47,
     "metadata": {},
     "output_type": "execute_result"
    }
   ],
   "source": [
    "tk.head()"
   ]
  },
  {
   "cell_type": "code",
   "execution_count": 48,
   "id": "9decd48d",
   "metadata": {},
   "outputs": [],
   "source": [
    "tk['clear_text'] = tk['lemmatize_tokens'].apply(lambda x: \" \".join(x))"
   ]
  },
  {
   "cell_type": "code",
   "execution_count": 49,
   "id": "2c768949",
   "metadata": {},
   "outputs": [
    {
     "data": {
      "text/html": [
       "<div>\n",
       "<style scoped>\n",
       "    .dataframe tbody tr th:only-of-type {\n",
       "        vertical-align: middle;\n",
       "    }\n",
       "\n",
       "    .dataframe tbody tr th {\n",
       "        vertical-align: top;\n",
       "    }\n",
       "\n",
       "    .dataframe thead th {\n",
       "        text-align: right;\n",
       "    }\n",
       "</style>\n",
       "<table border=\"1\" class=\"dataframe\">\n",
       "  <thead>\n",
       "    <tr style=\"text-align: right;\">\n",
       "      <th></th>\n",
       "      <th>Company</th>\n",
       "      <th>Post</th>\n",
       "      <th>day</th>\n",
       "      <th>month</th>\n",
       "      <th>time</th>\n",
       "      <th>rate_x</th>\n",
       "      <th>rate_y</th>\n",
       "      <th>subs</th>\n",
       "      <th>industries</th>\n",
       "      <th>about</th>\n",
       "      <th>lemmatize_tokens</th>\n",
       "      <th>clear_text</th>\n",
       "    </tr>\n",
       "  </thead>\n",
       "  <tbody>\n",
       "    <tr>\n",
       "      <th>0</th>\n",
       "      <td>Cybersport.Metaratings</td>\n",
       "      <td>7 декабря состоялась церемония награждения лау...</td>\n",
       "      <td>8</td>\n",
       "      <td>декабря</td>\n",
       "      <td>09:30</td>\n",
       "      <td>6</td>\n",
       "      <td>Не указано</td>\n",
       "      <td>Не указано</td>\n",
       "      <td>Не указано</td>\n",
       "      <td>Не указано</td>\n",
       "      <td>[декабрь, состояться, церемония, награждение, ...</td>\n",
       "      <td>декабрь состояться церемония награждение лауре...</td>\n",
       "    </tr>\n",
       "    <tr>\n",
       "      <th>1</th>\n",
       "      <td>ESforce Holding</td>\n",
       "      <td>7 декабря состоялась церемония награждения лау...</td>\n",
       "      <td>8</td>\n",
       "      <td>декабря</td>\n",
       "      <td>09:30</td>\n",
       "      <td>6</td>\n",
       "      <td>Не указано</td>\n",
       "      <td>Не указано</td>\n",
       "      <td>Не указано</td>\n",
       "      <td>Не указано</td>\n",
       "      <td>[декабрь, состояться, церемония, награждение, ...</td>\n",
       "      <td>декабрь состояться церемония награждение лауре...</td>\n",
       "    </tr>\n",
       "    <tr>\n",
       "      <th>2</th>\n",
       "      <td>ESforce Holding</td>\n",
       "      <td>Из совместного исследования издателя компьютер...</td>\n",
       "      <td>29</td>\n",
       "      <td>июля</td>\n",
       "      <td>13:50</td>\n",
       "      <td>12</td>\n",
       "      <td>Не указано</td>\n",
       "      <td>Не указано</td>\n",
       "      <td>Не указано</td>\n",
       "      <td>Не указано</td>\n",
       "      <td>[совместный, исследование, издатель, компьютер...</td>\n",
       "      <td>совместный исследование издатель компьютерный ...</td>\n",
       "    </tr>\n",
       "    <tr>\n",
       "      <th>3</th>\n",
       "      <td>ESforce Holding</td>\n",
       "      <td>По статистике The Esports Observer за I полови...</td>\n",
       "      <td>9</td>\n",
       "      <td>июля</td>\n",
       "      <td>09:33</td>\n",
       "      <td>18</td>\n",
       "      <td>Не указано</td>\n",
       "      <td>Не указано</td>\n",
       "      <td>Не указано</td>\n",
       "      <td>Не указано</td>\n",
       "      <td>[статистика, половина, впервые, самый, просмат...</td>\n",
       "      <td>статистика половина впервые самый просматриват...</td>\n",
       "    </tr>\n",
       "    <tr>\n",
       "      <th>4</th>\n",
       "      <td>ESforce Holding</td>\n",
       "      <td>Компании SuperData Research и PayPal провели с...</td>\n",
       "      <td>11</td>\n",
       "      <td>апреля</td>\n",
       "      <td>12:43</td>\n",
       "      <td>11</td>\n",
       "      <td>Не указано</td>\n",
       "      <td>Не указано</td>\n",
       "      <td>Не указано</td>\n",
       "      <td>Не указано</td>\n",
       "      <td>[компания, провести, совместный, исследование,...</td>\n",
       "      <td>компания провести совместный исследование евро...</td>\n",
       "    </tr>\n",
       "  </tbody>\n",
       "</table>\n",
       "</div>"
      ],
      "text/plain": [
       "                  Company                                               Post  \\\n",
       "0  Cybersport.Metaratings  7 декабря состоялась церемония награждения лау...   \n",
       "1         ESforce Holding  7 декабря состоялась церемония награждения лау...   \n",
       "2         ESforce Holding  Из совместного исследования издателя компьютер...   \n",
       "3         ESforce Holding  По статистике The Esports Observer за I полови...   \n",
       "4         ESforce Holding  Компании SuperData Research и PayPal провели с...   \n",
       "\n",
       "  day    month   time  rate_x      rate_y        subs  industries       about  \\\n",
       "0   8  декабря  09:30       6  Не указано  Не указано  Не указано  Не указано   \n",
       "1   8  декабря  09:30       6  Не указано  Не указано  Не указано  Не указано   \n",
       "2  29     июля  13:50      12  Не указано  Не указано  Не указано  Не указано   \n",
       "3   9     июля  09:33      18  Не указано  Не указано  Не указано  Не указано   \n",
       "4  11   апреля  12:43      11  Не указано  Не указано  Не указано  Не указано   \n",
       "\n",
       "                                    lemmatize_tokens  \\\n",
       "0  [декабрь, состояться, церемония, награждение, ...   \n",
       "1  [декабрь, состояться, церемония, награждение, ...   \n",
       "2  [совместный, исследование, издатель, компьютер...   \n",
       "3  [статистика, половина, впервые, самый, просмат...   \n",
       "4  [компания, провести, совместный, исследование,...   \n",
       "\n",
       "                                          clear_text  \n",
       "0  декабрь состояться церемония награждение лауре...  \n",
       "1  декабрь состояться церемония награждение лауре...  \n",
       "2  совместный исследование издатель компьютерный ...  \n",
       "3  статистика половина впервые самый просматриват...  \n",
       "4  компания провести совместный исследование евро...  "
      ]
     },
     "execution_count": 49,
     "metadata": {},
     "output_type": "execute_result"
    }
   ],
   "source": [
    "tk.head()"
   ]
  },
  {
   "cell_type": "code",
   "execution_count": 50,
   "id": "31473e55",
   "metadata": {},
   "outputs": [],
   "source": [
    "tk.to_csv('data.csv', index=False)"
   ]
  },
  {
   "cell_type": "markdown",
   "id": "001666c9",
   "metadata": {},
   "source": [
    "## типо векторизация..."
   ]
  },
  {
   "cell_type": "code",
   "execution_count": 51,
   "id": "90f8c14b",
   "metadata": {},
   "outputs": [],
   "source": [
    "from sklearn.feature_extraction.text import CountVectorizer, TfidfVectorizer, HashingVectorizer"
   ]
  },
  {
   "cell_type": "code",
   "execution_count": 52,
   "id": "d5342b1a",
   "metadata": {},
   "outputs": [
    {
     "ename": "AttributeError",
     "evalue": "'TfidfVectorizer' object has no attribute 'get_feature_names'",
     "output_type": "error",
     "traceback": [
      "\u001b[1;31m---------------------------------------------------------------------------\u001b[0m",
      "\u001b[1;31mAttributeError\u001b[0m                            Traceback (most recent call last)",
      "Cell \u001b[1;32mIn[52], line 3\u001b[0m\n\u001b[0;32m      1\u001b[0m tfidf \u001b[38;5;241m=\u001b[39m TfidfVectorizer(min_df\u001b[38;5;241m=\u001b[39m\u001b[38;5;241m5\u001b[39m,max_df\u001b[38;5;241m=\u001b[39m\u001b[38;5;241m0.8\u001b[39m, ngram_range\u001b[38;5;241m=\u001b[39m(\u001b[38;5;241m1\u001b[39m, \u001b[38;5;241m2\u001b[39m))\n\u001b[0;32m      2\u001b[0m X_tfidf \u001b[38;5;241m=\u001b[39m tfidf\u001b[38;5;241m.\u001b[39mfit_transform(tk[\u001b[38;5;124m'\u001b[39m\u001b[38;5;124mclear_text\u001b[39m\u001b[38;5;124m'\u001b[39m])\n\u001b[1;32m----> 3\u001b[0m df_tfidf \u001b[38;5;241m=\u001b[39m pd\u001b[38;5;241m.\u001b[39mDataFrame(X_tfidf\u001b[38;5;241m.\u001b[39mtoarray(), columns \u001b[38;5;241m=\u001b[39m \u001b[43mtfidf\u001b[49m\u001b[38;5;241;43m.\u001b[39;49m\u001b[43mget_feature_names\u001b[49m())\n\u001b[0;32m      4\u001b[0m df_tfidf\u001b[38;5;241m.\u001b[39mhead()\n",
      "\u001b[1;31mAttributeError\u001b[0m: 'TfidfVectorizer' object has no attribute 'get_feature_names'"
     ]
    }
   ],
   "source": [
    "tfidf = TfidfVectorizer(min_df=5,max_df=0.8, ngram_range=(1, 2))\n",
    "X_tfidf = tfidf.fit_transform(tk['clear_text'])\n",
    "df_tfidf = pd.DataFrame(X_tfidf.toarray(), columns = tfidf.get_feature_names())\n",
    "df_tfidf.head()"
   ]
  },
  {
   "cell_type": "code",
   "execution_count": 53,
   "id": "c480422d",
   "metadata": {},
   "outputs": [
    {
     "data": {
      "text/plain": [
       "<1112x31220 sparse matrix of type '<class 'numpy.float64'>'\n",
       "\twith 714739 stored elements in Compressed Sparse Row format>"
      ]
     },
     "execution_count": 53,
     "metadata": {},
     "output_type": "execute_result"
    }
   ],
   "source": [
    "X_tfidf"
   ]
  },
  {
   "cell_type": "code",
   "execution_count": 54,
   "id": "79c86b90",
   "metadata": {},
   "outputs": [
    {
     "ename": "NameError",
     "evalue": "name 'df_tfidf' is not defined",
     "output_type": "error",
     "traceback": [
      "\u001b[1;31m---------------------------------------------------------------------------\u001b[0m",
      "\u001b[1;31mNameError\u001b[0m                                 Traceback (most recent call last)",
      "Cell \u001b[1;32mIn[54], line 1\u001b[0m\n\u001b[1;32m----> 1\u001b[0m \u001b[43mdf_tfidf\u001b[49m[\u001b[38;5;124m\"\u001b[39m\u001b[38;5;124mCompany\u001b[39m\u001b[38;5;124m\"\u001b[39m]\u001b[38;5;241m=\u001b[39mtk[\u001b[38;5;124m\"\u001b[39m\u001b[38;5;124mCompany\u001b[39m\u001b[38;5;124m\"\u001b[39m]\n",
      "\u001b[1;31mNameError\u001b[0m: name 'df_tfidf' is not defined"
     ]
    }
   ],
   "source": [
    "df_tfidf[\"Company\"]=tk[\"Company\"]"
   ]
  },
  {
   "cell_type": "markdown",
   "id": "5a3e190c",
   "metadata": {},
   "source": [
    "## кластеризация"
   ]
  },
  {
   "cell_type": "code",
   "execution_count": 55,
   "id": "9c928b8a",
   "metadata": {},
   "outputs": [],
   "source": [
    "from sklearn.cluster import KMeans, Birch, MiniBatchKMeans\n",
    "from sklearn.decomposition import PCA"
   ]
  },
  {
   "cell_type": "code",
   "execution_count": 56,
   "id": "3edb45e3",
   "metadata": {},
   "outputs": [],
   "source": [
    "model = KMeans(n_clusters=5)"
   ]
  },
  {
   "cell_type": "code",
   "execution_count": 57,
   "id": "81f33ccb",
   "metadata": {},
   "outputs": [
    {
     "name": "stderr",
     "output_type": "stream",
     "text": [
      "C:\\I\\anaconda\\lib\\site-packages\\sklearn\\cluster\\_kmeans.py:870: FutureWarning: The default value of `n_init` will change from 10 to 'auto' in 1.4. Set the value of `n_init` explicitly to suppress the warning\n",
      "  warnings.warn(\n",
      "C:\\I\\anaconda\\lib\\site-packages\\sklearn\\cluster\\_kmeans.py:1382: UserWarning: KMeans is known to have a memory leak on Windows with MKL, when there are less chunks than available threads. You can avoid it by setting the environment variable OMP_NUM_THREADS=5.\n",
      "  warnings.warn(\n"
     ]
    },
    {
     "ename": "NameError",
     "evalue": "name 'df_tfidf' is not defined",
     "output_type": "error",
     "traceback": [
      "\u001b[1;31m---------------------------------------------------------------------------\u001b[0m",
      "\u001b[1;31mNameError\u001b[0m                                 Traceback (most recent call last)",
      "Cell \u001b[1;32mIn[57], line 3\u001b[0m\n\u001b[0;32m      1\u001b[0m reduced_data \u001b[38;5;241m=\u001b[39m PCA(n_components\u001b[38;5;241m=\u001b[39m\u001b[38;5;241m2\u001b[39m)\u001b[38;5;241m.\u001b[39mfit_transform(X_tfidf\u001b[38;5;241m.\u001b[39mtoarray())\n\u001b[0;32m      2\u001b[0m model\u001b[38;5;241m.\u001b[39mfit_transform(reduced_data)\n\u001b[1;32m----> 3\u001b[0m \u001b[43mdf_tfidf\u001b[49m[\u001b[38;5;124m\"\u001b[39m\u001b[38;5;124mcluster\u001b[39m\u001b[38;5;124m\"\u001b[39m] \u001b[38;5;241m=\u001b[39m model\u001b[38;5;241m.\u001b[39mpredict(reduced_data)\n",
      "\u001b[1;31mNameError\u001b[0m: name 'df_tfidf' is not defined"
     ]
    }
   ],
   "source": [
    "reduced_data = PCA(n_components=2).fit_transform(X_tfidf.toarray())\n",
    "model.fit_transform(reduced_data)\n",
    "df_tfidf[\"cluster\"] = model.predict(reduced_data)"
   ]
  },
  {
   "cell_type": "markdown",
   "id": "319a4eeb",
   "metadata": {},
   "source": [
    "## классификация"
   ]
  },
  {
   "cell_type": "code",
   "execution_count": 63,
   "id": "5b2836c3",
   "metadata": {},
   "outputs": [
    {
     "ename": "ValueError",
     "evalue": "No ':' found when decoding object value",
     "output_type": "error",
     "traceback": [
      "\u001b[1;31m---------------------------------------------------------------------------\u001b[0m",
      "\u001b[1;31mValueError\u001b[0m                                Traceback (most recent call last)",
      "Cell \u001b[1;32mIn[63], line 1\u001b[0m\n\u001b[1;32m----> 1\u001b[0m df\u001b[38;5;241m=\u001b[39m\u001b[43mpd\u001b[49m\u001b[38;5;241;43m.\u001b[39;49m\u001b[43mread_json\u001b[49m\u001b[43m(\u001b[49m\u001b[38;5;124;43m\"\u001b[39;49m\u001b[38;5;124;43mTarget.json\u001b[39;49m\u001b[38;5;124;43m\"\u001b[39;49m\u001b[43m)\u001b[49m\n\u001b[0;32m      2\u001b[0m df \u001b[38;5;241m=\u001b[39m df\u001b[38;5;241m.\u001b[39mrename(columns \u001b[38;5;241m=\u001b[39m {\u001b[38;5;124m\"\u001b[39m\u001b[38;5;124mСompany\u001b[39m\u001b[38;5;124m\"\u001b[39m:\u001b[38;5;124m\"\u001b[39m\u001b[38;5;124mCompany\u001b[39m\u001b[38;5;124m\"\u001b[39m})\n\u001b[0;32m      3\u001b[0m df\n",
      "File \u001b[1;32mC:\\I\\anaconda\\lib\\site-packages\\pandas\\util\\_decorators.py:211\u001b[0m, in \u001b[0;36mdeprecate_kwarg.<locals>._deprecate_kwarg.<locals>.wrapper\u001b[1;34m(*args, **kwargs)\u001b[0m\n\u001b[0;32m    209\u001b[0m     \u001b[38;5;28;01melse\u001b[39;00m:\n\u001b[0;32m    210\u001b[0m         kwargs[new_arg_name] \u001b[38;5;241m=\u001b[39m new_arg_value\n\u001b[1;32m--> 211\u001b[0m \u001b[38;5;28;01mreturn\u001b[39;00m func(\u001b[38;5;241m*\u001b[39margs, \u001b[38;5;241m*\u001b[39m\u001b[38;5;241m*\u001b[39mkwargs)\n",
      "File \u001b[1;32mC:\\I\\anaconda\\lib\\site-packages\\pandas\\util\\_decorators.py:331\u001b[0m, in \u001b[0;36mdeprecate_nonkeyword_arguments.<locals>.decorate.<locals>.wrapper\u001b[1;34m(*args, **kwargs)\u001b[0m\n\u001b[0;32m    325\u001b[0m \u001b[38;5;28;01mif\u001b[39;00m \u001b[38;5;28mlen\u001b[39m(args) \u001b[38;5;241m>\u001b[39m num_allow_args:\n\u001b[0;32m    326\u001b[0m     warnings\u001b[38;5;241m.\u001b[39mwarn(\n\u001b[0;32m    327\u001b[0m         msg\u001b[38;5;241m.\u001b[39mformat(arguments\u001b[38;5;241m=\u001b[39m_format_argument_list(allow_args)),\n\u001b[0;32m    328\u001b[0m         \u001b[38;5;167;01mFutureWarning\u001b[39;00m,\n\u001b[0;32m    329\u001b[0m         stacklevel\u001b[38;5;241m=\u001b[39mfind_stack_level(),\n\u001b[0;32m    330\u001b[0m     )\n\u001b[1;32m--> 331\u001b[0m \u001b[38;5;28;01mreturn\u001b[39;00m func(\u001b[38;5;241m*\u001b[39margs, \u001b[38;5;241m*\u001b[39m\u001b[38;5;241m*\u001b[39mkwargs)\n",
      "File \u001b[1;32mC:\\I\\anaconda\\lib\\site-packages\\pandas\\io\\json\\_json.py:757\u001b[0m, in \u001b[0;36mread_json\u001b[1;34m(path_or_buf, orient, typ, dtype, convert_axes, convert_dates, keep_default_dates, numpy, precise_float, date_unit, encoding, encoding_errors, lines, chunksize, compression, nrows, storage_options)\u001b[0m\n\u001b[0;32m    754\u001b[0m     \u001b[38;5;28;01mreturn\u001b[39;00m json_reader\n\u001b[0;32m    756\u001b[0m \u001b[38;5;28;01mwith\u001b[39;00m json_reader:\n\u001b[1;32m--> 757\u001b[0m     \u001b[38;5;28;01mreturn\u001b[39;00m \u001b[43mjson_reader\u001b[49m\u001b[38;5;241;43m.\u001b[39;49m\u001b[43mread\u001b[49m\u001b[43m(\u001b[49m\u001b[43m)\u001b[49m\n",
      "File \u001b[1;32mC:\\I\\anaconda\\lib\\site-packages\\pandas\\io\\json\\_json.py:915\u001b[0m, in \u001b[0;36mJsonReader.read\u001b[1;34m(self)\u001b[0m\n\u001b[0;32m    913\u001b[0m         obj \u001b[38;5;241m=\u001b[39m \u001b[38;5;28mself\u001b[39m\u001b[38;5;241m.\u001b[39m_get_object_parser(\u001b[38;5;28mself\u001b[39m\u001b[38;5;241m.\u001b[39m_combine_lines(data_lines))\n\u001b[0;32m    914\u001b[0m \u001b[38;5;28;01melse\u001b[39;00m:\n\u001b[1;32m--> 915\u001b[0m     obj \u001b[38;5;241m=\u001b[39m \u001b[38;5;28;43mself\u001b[39;49m\u001b[38;5;241;43m.\u001b[39;49m\u001b[43m_get_object_parser\u001b[49m\u001b[43m(\u001b[49m\u001b[38;5;28;43mself\u001b[39;49m\u001b[38;5;241;43m.\u001b[39;49m\u001b[43mdata\u001b[49m\u001b[43m)\u001b[49m\n\u001b[0;32m    916\u001b[0m \u001b[38;5;28mself\u001b[39m\u001b[38;5;241m.\u001b[39mclose()\n\u001b[0;32m    917\u001b[0m \u001b[38;5;28;01mreturn\u001b[39;00m obj\n",
      "File \u001b[1;32mC:\\I\\anaconda\\lib\\site-packages\\pandas\\io\\json\\_json.py:937\u001b[0m, in \u001b[0;36mJsonReader._get_object_parser\u001b[1;34m(self, json)\u001b[0m\n\u001b[0;32m    935\u001b[0m obj \u001b[38;5;241m=\u001b[39m \u001b[38;5;28;01mNone\u001b[39;00m\n\u001b[0;32m    936\u001b[0m \u001b[38;5;28;01mif\u001b[39;00m typ \u001b[38;5;241m==\u001b[39m \u001b[38;5;124m\"\u001b[39m\u001b[38;5;124mframe\u001b[39m\u001b[38;5;124m\"\u001b[39m:\n\u001b[1;32m--> 937\u001b[0m     obj \u001b[38;5;241m=\u001b[39m \u001b[43mFrameParser\u001b[49m\u001b[43m(\u001b[49m\u001b[43mjson\u001b[49m\u001b[43m,\u001b[49m\u001b[43m \u001b[49m\u001b[38;5;241;43m*\u001b[39;49m\u001b[38;5;241;43m*\u001b[39;49m\u001b[43mkwargs\u001b[49m\u001b[43m)\u001b[49m\u001b[38;5;241;43m.\u001b[39;49m\u001b[43mparse\u001b[49m\u001b[43m(\u001b[49m\u001b[43m)\u001b[49m\n\u001b[0;32m    939\u001b[0m \u001b[38;5;28;01mif\u001b[39;00m typ \u001b[38;5;241m==\u001b[39m \u001b[38;5;124m\"\u001b[39m\u001b[38;5;124mseries\u001b[39m\u001b[38;5;124m\"\u001b[39m \u001b[38;5;129;01mor\u001b[39;00m obj \u001b[38;5;129;01mis\u001b[39;00m \u001b[38;5;28;01mNone\u001b[39;00m:\n\u001b[0;32m    940\u001b[0m     \u001b[38;5;28;01mif\u001b[39;00m \u001b[38;5;129;01mnot\u001b[39;00m \u001b[38;5;28misinstance\u001b[39m(dtype, \u001b[38;5;28mbool\u001b[39m):\n",
      "File \u001b[1;32mC:\\I\\anaconda\\lib\\site-packages\\pandas\\io\\json\\_json.py:1064\u001b[0m, in \u001b[0;36mParser.parse\u001b[1;34m(self)\u001b[0m\n\u001b[0;32m   1062\u001b[0m     \u001b[38;5;28mself\u001b[39m\u001b[38;5;241m.\u001b[39m_parse_numpy()\n\u001b[0;32m   1063\u001b[0m \u001b[38;5;28;01melse\u001b[39;00m:\n\u001b[1;32m-> 1064\u001b[0m     \u001b[38;5;28;43mself\u001b[39;49m\u001b[38;5;241;43m.\u001b[39;49m\u001b[43m_parse_no_numpy\u001b[49m\u001b[43m(\u001b[49m\u001b[43m)\u001b[49m\n\u001b[0;32m   1066\u001b[0m \u001b[38;5;28;01mif\u001b[39;00m \u001b[38;5;28mself\u001b[39m\u001b[38;5;241m.\u001b[39mobj \u001b[38;5;129;01mis\u001b[39;00m \u001b[38;5;28;01mNone\u001b[39;00m:\n\u001b[0;32m   1067\u001b[0m     \u001b[38;5;28;01mreturn\u001b[39;00m \u001b[38;5;28;01mNone\u001b[39;00m\n",
      "File \u001b[1;32mC:\\I\\anaconda\\lib\\site-packages\\pandas\\io\\json\\_json.py:1321\u001b[0m, in \u001b[0;36mFrameParser._parse_no_numpy\u001b[1;34m(self)\u001b[0m\n\u001b[0;32m   1317\u001b[0m orient \u001b[38;5;241m=\u001b[39m \u001b[38;5;28mself\u001b[39m\u001b[38;5;241m.\u001b[39morient\n\u001b[0;32m   1319\u001b[0m \u001b[38;5;28;01mif\u001b[39;00m orient \u001b[38;5;241m==\u001b[39m \u001b[38;5;124m\"\u001b[39m\u001b[38;5;124mcolumns\u001b[39m\u001b[38;5;124m\"\u001b[39m:\n\u001b[0;32m   1320\u001b[0m     \u001b[38;5;28mself\u001b[39m\u001b[38;5;241m.\u001b[39mobj \u001b[38;5;241m=\u001b[39m DataFrame(\n\u001b[1;32m-> 1321\u001b[0m         \u001b[43mloads\u001b[49m\u001b[43m(\u001b[49m\u001b[43mjson\u001b[49m\u001b[43m,\u001b[49m\u001b[43m \u001b[49m\u001b[43mprecise_float\u001b[49m\u001b[38;5;241;43m=\u001b[39;49m\u001b[38;5;28;43mself\u001b[39;49m\u001b[38;5;241;43m.\u001b[39;49m\u001b[43mprecise_float\u001b[49m\u001b[43m)\u001b[49m, dtype\u001b[38;5;241m=\u001b[39m\u001b[38;5;28;01mNone\u001b[39;00m\n\u001b[0;32m   1322\u001b[0m     )\n\u001b[0;32m   1323\u001b[0m \u001b[38;5;28;01melif\u001b[39;00m orient \u001b[38;5;241m==\u001b[39m \u001b[38;5;124m\"\u001b[39m\u001b[38;5;124msplit\u001b[39m\u001b[38;5;124m\"\u001b[39m:\n\u001b[0;32m   1324\u001b[0m     decoded \u001b[38;5;241m=\u001b[39m {\n\u001b[0;32m   1325\u001b[0m         \u001b[38;5;28mstr\u001b[39m(k): v\n\u001b[0;32m   1326\u001b[0m         \u001b[38;5;28;01mfor\u001b[39;00m k, v \u001b[38;5;129;01min\u001b[39;00m loads(json, precise_float\u001b[38;5;241m=\u001b[39m\u001b[38;5;28mself\u001b[39m\u001b[38;5;241m.\u001b[39mprecise_float)\u001b[38;5;241m.\u001b[39mitems()\n\u001b[0;32m   1327\u001b[0m     }\n",
      "\u001b[1;31mValueError\u001b[0m: No ':' found when decoding object value"
     ]
    }
   ],
   "source": [
    "df=pd.read_json(\"Target.json\")\n",
    "df = df.rename(columns = {\"Сompany\":\"Company\"})\n",
    "df"
   ]
  },
  {
   "cell_type": "markdown",
   "id": "f72e4c06",
   "metadata": {},
   "source": [
    "## мдааааааа"
   ]
  },
  {
   "cell_type": "code",
   "execution_count": 71,
   "id": "e798bc92",
   "metadata": {},
   "outputs": [],
   "source": [
    "from sklearn.model_selection import train_test_split"
   ]
  },
  {
   "cell_type": "code",
   "execution_count": 72,
   "id": "57e3f730",
   "metadata": {},
   "outputs": [
    {
     "ename": "NameError",
     "evalue": "name 'df_tfidf' is not defined",
     "output_type": "error",
     "traceback": [
      "\u001b[1;31m---------------------------------------------------------------------------\u001b[0m",
      "\u001b[1;31mNameError\u001b[0m                                 Traceback (most recent call last)",
      "Cell \u001b[1;32mIn[72], line 1\u001b[0m\n\u001b[1;32m----> 1\u001b[0m x\u001b[38;5;241m=\u001b[39m\u001b[43mdf_tfidf\u001b[49m\u001b[38;5;241m.\u001b[39mdrop([\u001b[38;5;124m'\u001b[39m\u001b[38;5;124mNominations\u001b[39m\u001b[38;5;124m'\u001b[39m, \u001b[38;5;124m\"\u001b[39m\u001b[38;5;124mCompany\u001b[39m\u001b[38;5;124m\"\u001b[39m], axis\u001b[38;5;241m=\u001b[39m\u001b[38;5;241m1\u001b[39m)\n\u001b[0;32m      2\u001b[0m y\u001b[38;5;241m=\u001b[39mdf_tfidf[\u001b[38;5;124m'\u001b[39m\u001b[38;5;124mNominations\u001b[39m\u001b[38;5;124m'\u001b[39m]\n",
      "\u001b[1;31mNameError\u001b[0m: name 'df_tfidf' is not defined"
     ]
    }
   ],
   "source": [
    "x=df_tfidf.drop(['Nominations', \"Company\"], axis=1)\n",
    "y=df_tfidf['Nominations']"
   ]
  },
  {
   "cell_type": "code",
   "execution_count": 73,
   "id": "0caba6b4",
   "metadata": {},
   "outputs": [
    {
     "ename": "NameError",
     "evalue": "name 'x' is not defined",
     "output_type": "error",
     "traceback": [
      "\u001b[1;31m---------------------------------------------------------------------------\u001b[0m",
      "\u001b[1;31mNameError\u001b[0m                                 Traceback (most recent call last)",
      "Cell \u001b[1;32mIn[73], line 1\u001b[0m\n\u001b[1;32m----> 1\u001b[0m x_train, x_test, y_train, y_test \u001b[38;5;241m=\u001b[39m train_test_split(\u001b[43mx\u001b[49m, y, test_size\u001b[38;5;241m=\u001b[39m\u001b[38;5;241m0.30\u001b[39m, random_state\u001b[38;5;241m=\u001b[39m\u001b[38;5;241m42\u001b[39m, stratify\u001b[38;5;241m=\u001b[39my)\n",
      "\u001b[1;31mNameError\u001b[0m: name 'x' is not defined"
     ]
    }
   ],
   "source": [
    "x_train, x_test, y_train, y_test = train_test_split(x, y, test_size=0.30, random_state=42, stratify=y)"
   ]
  },
  {
   "cell_type": "code",
   "execution_count": 74,
   "id": "4c76f146",
   "metadata": {},
   "outputs": [],
   "source": [
    "from sklearn.tree import DecisionTreeClassifier as Tree"
   ]
  },
  {
   "cell_type": "code",
   "execution_count": 75,
   "id": "db85c6e1",
   "metadata": {},
   "outputs": [],
   "source": [
    "tree = Tree(max_depth=20, min_samples_split=4, min_samples_leaf=2)"
   ]
  },
  {
   "cell_type": "code",
   "execution_count": 76,
   "id": "e9716b72",
   "metadata": {},
   "outputs": [
    {
     "ename": "NameError",
     "evalue": "name 'x_train' is not defined",
     "output_type": "error",
     "traceback": [
      "\u001b[1;31m---------------------------------------------------------------------------\u001b[0m",
      "\u001b[1;31mNameError\u001b[0m                                 Traceback (most recent call last)",
      "Cell \u001b[1;32mIn[76], line 1\u001b[0m\n\u001b[1;32m----> 1\u001b[0m tree\u001b[38;5;241m.\u001b[39mfit(\u001b[43mx_train\u001b[49m, y_train)\n",
      "\u001b[1;31mNameError\u001b[0m: name 'x_train' is not defined"
     ]
    }
   ],
   "source": [
    "tree.fit(x_train, y_train)"
   ]
  },
  {
   "cell_type": "code",
   "execution_count": 77,
   "id": "b419a131",
   "metadata": {},
   "outputs": [
    {
     "ename": "NameError",
     "evalue": "name 'x_test' is not defined",
     "output_type": "error",
     "traceback": [
      "\u001b[1;31m---------------------------------------------------------------------------\u001b[0m",
      "\u001b[1;31mNameError\u001b[0m                                 Traceback (most recent call last)",
      "Cell \u001b[1;32mIn[77], line 1\u001b[0m\n\u001b[1;32m----> 1\u001b[0m predictions \u001b[38;5;241m=\u001b[39m tree\u001b[38;5;241m.\u001b[39mpredict(\u001b[43mx_test\u001b[49m)\n",
      "\u001b[1;31mNameError\u001b[0m: name 'x_test' is not defined"
     ]
    }
   ],
   "source": [
    "predictions = tree.predict(x_test)"
   ]
  },
  {
   "cell_type": "code",
   "execution_count": 78,
   "id": "2414e0e6",
   "metadata": {},
   "outputs": [
    {
     "ename": "NameError",
     "evalue": "name 'y_test' is not defined",
     "output_type": "error",
     "traceback": [
      "\u001b[1;31m---------------------------------------------------------------------------\u001b[0m",
      "\u001b[1;31mNameError\u001b[0m                                 Traceback (most recent call last)",
      "Cell \u001b[1;32mIn[78], line 2\u001b[0m\n\u001b[0;32m      1\u001b[0m \u001b[38;5;28;01mfrom\u001b[39;00m \u001b[38;5;21;01msklearn\u001b[39;00m\u001b[38;5;21;01m.\u001b[39;00m\u001b[38;5;21;01mmetrics\u001b[39;00m \u001b[38;5;28;01mimport\u001b[39;00m accuracy_score\n\u001b[1;32m----> 2\u001b[0m \u001b[38;5;28mprint\u001b[39m(accuracy_score(\u001b[43my_test\u001b[49m, predictions))\n",
      "\u001b[1;31mNameError\u001b[0m: name 'y_test' is not defined"
     ]
    }
   ],
   "source": [
    "from sklearn.metrics import accuracy_score\n",
    "print(accuracy_score(y_test, predictions))"
   ]
  },
  {
   "cell_type": "code",
   "execution_count": null,
   "id": "016afaa9",
   "metadata": {},
   "outputs": [],
   "source": []
  }
 ],
 "metadata": {
  "kernelspec": {
   "display_name": "Python 3 (ipykernel)",
   "language": "python",
   "name": "python3"
  },
  "language_info": {
   "codemirror_mode": {
    "name": "ipython",
    "version": 3
   },
   "file_extension": ".py",
   "mimetype": "text/x-python",
   "name": "python",
   "nbconvert_exporter": "python",
   "pygments_lexer": "ipython3",
   "version": "3.10.9"
  }
 },
 "nbformat": 4,
 "nbformat_minor": 5
}
